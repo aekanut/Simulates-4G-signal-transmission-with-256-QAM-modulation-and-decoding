{
  "nbformat": 4,
  "nbformat_minor": 0,
  "metadata": {
    "colab": {
      "name": "4G.ipynb",
      "provenance": [],
      "collapsed_sections": []
    },
    "kernelspec": {
      "name": "python3",
      "display_name": "Python 3"
    }
  },
  "cells": [
    {
      "cell_type": "code",
      "metadata": {
        "id": "AWzn9Pli5QoB"
      },
      "source": [
        "import numpy as np\n",
        "import matplotlib.pyplot as plot\n",
        "import math\n",
        "import cv2"
      ],
      "execution_count": 1,
      "outputs": []
    },
    {
      "cell_type": "code",
      "metadata": {
        "id": "2dnkg7dOcXBv"
      },
      "source": [
        "def MOD_256_QAM(m) :\n",
        "\n",
        "  A_Even_Bit = []\n",
        "  A_Odd_Bit = []\n",
        "\n",
        "  for i in range((len(m))) :\n",
        "    if i % 2 == 0 :\n",
        "      A_Odd_Bit.extend([m[i]])\n",
        "    else :\n",
        "      A_Even_Bit.extend([m[i]])\n",
        "\n",
        "  #print(A_Odd_Bit,\"odd\")\n",
        "  #print(A_Even_Bit,\"Even\")\n",
        "\n",
        "  #print(A_Even_Bit,'E')\n",
        "  #print(A_Odd_Bit,'O')\n",
        "\n",
        "  Non_Bi_Even=[]\n",
        "  Non_Bi_Odd=[]\n",
        "  sum1=0\n",
        "  sum2=0\n",
        "  for i in range(0,len(A_Even_Bit),4) :\n",
        "    sum1=0\n",
        "    sum2=0\n",
        "    for j in range(4) :\n",
        "      sum1=sum1+(2**(3-j))*A_Even_Bit[i+j]\n",
        "      sum2=sum2+(2**(3-j))*A_Odd_Bit[i+j]\n",
        "    Non_Bi_Even.append(sum1)\n",
        "    Non_Bi_Odd.append(sum2)\n",
        "\n",
        "  #print(Non_Bi_Even,'E')\n",
        "  #print(Non_Bi_Odd,'O')\n",
        "\n",
        "  B_Even_Bit = 2 * np.array(Non_Bi_Even) - 15\n",
        "  B_Odd_Bit = 2 * np.array(Non_Bi_Odd) - 15\n",
        "\n",
        "  #print(B_Even_Bit,'E')\n",
        "  #print(B_Odd_Bit,'O')\n",
        "  \n",
        "  e_e = []\n",
        "  e_o = []\n",
        "  for i in range(len(B_Even_Bit)) :\n",
        "    e_e.extend([B_Even_Bit[i]]*100)\n",
        "    e_o.extend([B_Odd_Bit[i]]*100)\n",
        "  #plot.plot(e_e)\n",
        "  #plot.show()\n",
        "  #plot.plot(e_o)\n",
        "  #plot.show()\n",
        "  #print(e_e,'E')\n",
        "  #print(e_o,'O')\n",
        "\n",
        "  t = np.arange(0,len(e_e)*(1/((100/2.1)*21)),1/((100/2.1)*21))      #1 bits have 2.1 period because Rb=1000*10**6 and fequency=2100*10**6  \n",
        "  t1= np.arange(0,len(B_Even_Bit)*(10**-9),(10**-9)/100)\n",
        "  sin = np.sin(2*np.pi*(84)*t) \n",
        "  cos = np.cos(2*np.pi*(84)*t) \n",
        "  I_t = np.array(sin*e_e)\n",
        "  Q_t = cos*np.array(e_o)\n",
        "  #plot.plot(I_t)\n",
        "  #plot.show()\n",
        "  #plot.plot(Q_t)\n",
        "  #plot.show()\n",
        "  \n",
        "  QAM=I_t+Q_t\n",
        "\n",
        "  return QAM\n",
        "\n",
        "\n",
        "  "
      ],
      "execution_count": 2,
      "outputs": []
    },
    {
      "cell_type": "code",
      "metadata": {
        "id": "N5awo8-cpFEI"
      },
      "source": [
        "def De_256_QAM(m) :\n",
        "\n",
        "  ZI = []\n",
        "  ZQ = []\n",
        "  t = np.arange(0,len(m)*(1/((100/2.1)*21)),1/((100/2.1)*21))      #1 bits have 2.1 period because Rb=1000*10**6 and fequency=2100*10**6  \n",
        "  #t1= np.arange(0,len(m)*(10**-9),(10**-9))\n",
        "  sin = np.sin(2*np.pi*(84)*t) \n",
        "  cos = np.cos(2*np.pi*(84)*t) \n",
        "  I1 = m*sin\n",
        "  Q1 = m*cos\n",
        "  sumi=0\n",
        "  sumq=0\n",
        "  for i in range(0,len(m),100)  :\n",
        "    sumi=0\n",
        "    sumq=0\n",
        "    for j in range(100) :\n",
        "      sumi=sumi+I1[i+j]\n",
        "      sumq=sumq+Q1[i+j]\n",
        "    sumi=sumi*10**-2\n",
        "    sumq=sumq*10**-2\n",
        "    ZI.append(sumi)\n",
        "    ZQ.append(sumq)\n",
        "\n",
        "  ZI=np.array(ZI)*2\n",
        "  ZQ=np.array(ZQ)*2\n",
        "\n",
        "  I=[]\n",
        "  Q=[]\n",
        "  for i in range(len(ZI)) :\n",
        "    if ZI[i]>=14 :\n",
        "      I.append(15)\n",
        "\n",
        "    if ZQ[i]>=14 :\n",
        "      Q.append(15)\n",
        "\n",
        "    for j in range(14,-14,-2) :\n",
        "      if ZI[i]<j and ZI[i]>=j-2 :\n",
        "        I.append(j-1)\n",
        "    \n",
        "    for j in range(14,-14,-2) :\n",
        "      if ZQ[i]<j and ZQ[i]>=j-2 :\n",
        "        Q.append(j-1)\n",
        "\n",
        "    if ZI[i]<-14 :\n",
        "        I.append(-15)\n",
        "\n",
        "    if ZQ[i]<-14 :\n",
        "        Q.append(-15)\n",
        "\n",
        "  I_Bit = []\n",
        "  Q_Bit = []\n",
        "\n",
        "  I=np.array(I)\n",
        "  Q=np.array(Q)\n",
        "  I=(I+15)/2\n",
        "  Q=(Q+15)/2\n",
        "\n",
        "  for i in range(len(I)) :\n",
        "    if I[i] == 15 :\n",
        "      I_Bit.extend([1,1,1,1])\n",
        "    elif I[i] == 14 :\n",
        "      I_Bit.extend([1,1,1,0])\n",
        "    elif I[i] == 13 :\n",
        "      I_Bit.extend([1,1,0,1])\n",
        "    elif I[i] == 12 :\n",
        "      I_Bit.extend([1,1,0,0])\n",
        "    elif I[i] == 11 :\n",
        "      I_Bit.extend([1,0,1,1])\n",
        "    elif I[i] == 10 :\n",
        "      I_Bit.extend([1,0,1,0])\n",
        "    elif I[i] == 9 :\n",
        "      I_Bit.extend([1,0,0,1])\n",
        "    elif I[i] == 8 :\n",
        "      I_Bit.extend([1,0,0,0])\n",
        "    elif I[i] == 7 :\n",
        "      I_Bit.extend([0,1,1,1])\n",
        "    elif I[i] == 6 :\n",
        "      I_Bit.extend([0,1,1,0])\n",
        "    elif I[i] == 5 :\n",
        "      I_Bit.extend([0,1,0,1])\n",
        "    elif I[i] == 4 :\n",
        "      I_Bit.extend([0,1,0,0])\n",
        "    elif I[i] == 3 :\n",
        "      I_Bit.extend([0,0,1,1])\n",
        "    elif I[i] == 2 :\n",
        "      I_Bit.extend([0,0,1,0])\n",
        "    elif I[i] == 1 :\n",
        "      I_Bit.extend([0,0,0,1])\n",
        "    elif I[i] == 0 :\n",
        "      I_Bit.extend([0,0,0,0])\n",
        "\n",
        "    if Q[i] == 15 :\n",
        "      Q_Bit.extend([1,1,1,1])\n",
        "    elif Q[i] == 14 :\n",
        "      Q_Bit.extend([1,1,1,0])\n",
        "    elif Q[i] == 13 :\n",
        "      Q_Bit.extend([1,1,0,1])\n",
        "    elif Q[i] == 12 :\n",
        "      Q_Bit.extend([1,1,0,0])\n",
        "    elif Q[i] == 11 :\n",
        "      Q_Bit.extend([1,0,1,1])\n",
        "    elif Q[i] == 10 :\n",
        "      Q_Bit.extend([1,0,1,0])\n",
        "    elif Q[i] == 9 :\n",
        "      Q_Bit.extend([1,0,0,1])\n",
        "    elif Q[i] == 8 :\n",
        "      Q_Bit.extend([1,0,0,0])\n",
        "    elif Q[i] == 7 :\n",
        "      Q_Bit.extend([0,1,1,1])\n",
        "    elif Q[i] == 6 :\n",
        "      Q_Bit.extend([0,1,1,0])\n",
        "    elif Q[i] == 5 :\n",
        "      Q_Bit.extend([0,1,0,1])\n",
        "    elif Q[i] == 4 :\n",
        "      Q_Bit.extend([0,1,0,0])\n",
        "    elif Q[i] == 3 :\n",
        "      Q_Bit.extend([0,0,1,1])\n",
        "    elif Q[i] == 2 :\n",
        "      Q_Bit.extend([0,0,1,0])\n",
        "    elif Q[i] == 1 :\n",
        "      Q_Bit.extend([0,0,0,1])\n",
        "    elif Q[i] == 0 :\n",
        "      Q_Bit.extend([0,0,0,0])\n",
        "\n",
        "  I_Bit=np.array(I_Bit)\n",
        "  Q_Bit=np.array(Q_Bit)\n",
        "\n",
        "  x=[]\n",
        "  for i in range(len(Q_Bit)) :\n",
        "    x.append(Q_Bit[i])\n",
        "    x.append(I_Bit[i])\n",
        "\n",
        "  x=np.array(x)\n",
        "  return x\n",
        "\n",
        "\n",
        "\n",
        "\n",
        "      \n",
        "\n",
        "    \n",
        "      "
      ],
      "execution_count": 3,
      "outputs": []
    },
    {
      "cell_type": "code",
      "metadata": {
        "id": "2EIzBsr37U_W"
      },
      "source": [
        "def importandplotphoto(p) :\n",
        "  x = cv2.imread(p)\n",
        "  y = x.shape\n",
        "  z = x.reshape(1,y[0]*y[1]*y[2])\n",
        "  #plot.imshow(x[:,:,::-1])\n",
        "  #plot.title('Photo before transmitted')\n",
        "  #plot.show()\n",
        "\n",
        "  c = z[0]\n",
        "  c1=[]\n",
        "  p = str(1)\n",
        "  for i in range(len(c)) :\n",
        "    p = format(c[i],'08b')\n",
        "    for j in range(8) :\n",
        "      c1.append(int(p[j]))\n",
        "\n",
        "\n",
        "  return c1,y,x\n"
      ],
      "execution_count": 4,
      "outputs": []
    },
    {
      "cell_type": "code",
      "metadata": {
        "id": "Qdf8_mVgEPF3"
      },
      "source": [
        "def hexbinarytoten(m) :\n",
        "  x_bar2 =[]\n",
        "  sum3=0\n",
        "  for i in range(0,len(m),8) :\n",
        "    sum3 = 0\n",
        "    for j in range(0,8) :\n",
        "      sum3 = sum3 + m[i+j]*2**(7-j)\n",
        "    x_bar2.append(sum3)\n",
        "  x_bar2 = np.array(x_bar2)\n",
        "  return x_bar2\n"
      ],
      "execution_count": 5,
      "outputs": []
    },
    {
      "cell_type": "code",
      "metadata": {
        "id": "dFba-ZchE3qh"
      },
      "source": [
        "def comparebit(x,y) :\n",
        "  sum = 0\n",
        "  for i in range(len(x)) :\n",
        "    if x[i] != y[i] :\n",
        "      sum += 1\n",
        "\n",
        "  BER = sum/len(x)\n",
        "  print('ERROR BITS = ',sum)\n",
        "  print('ALL BITS = ',len(x))\n",
        "  print('BER = ',BER)\n",
        "  return BER"
      ],
      "execution_count": 6,
      "outputs": []
    },
    {
      "cell_type": "code",
      "metadata": {
        "id": "Tz8U60Msit2r"
      },
      "source": [
        "def Cross_XOR(x,y) :\n",
        "  z = x.dot(y)\n",
        "  for i in range(len(z)) :\n",
        "    if z[i] % 2 == 0 :\n",
        "      z[i] = 0\n",
        "    else :\n",
        "      z[i] = 1\n",
        "  return z\n"
      ],
      "execution_count": 7,
      "outputs": []
    },
    {
      "cell_type": "code",
      "metadata": {
        "id": "ASBv6jll5PtO"
      },
      "source": [
        "def Matrix_P() :\n",
        "  p = []\n",
        "  l= []\n",
        "  for i in range(1,32) :\n",
        "    if (i != 1) and (i != 2) and (i != 4) and (i != 8) and (i != 16) and (i != 32)  :\n",
        "      l = format(i,'06b')\n",
        "      p.extend([np.array([int(l[0]),int(l[1]),int(l[2]),int(l[3]),int(l[4]),int(l[5]),])])\n",
        "  P = np.array(p)\n",
        "  return P"
      ],
      "execution_count": 8,
      "outputs": []
    },
    {
      "cell_type": "code",
      "metadata": {
        "id": "CT1ry0TL5u6L"
      },
      "source": [
        "def Matrix_G_H(x) :\n",
        "  I_26 = np.eye(26)\n",
        "  G = np.append([x],[I_26],axis = 2)\n",
        "  G = G[0]\n",
        "\n",
        "  I_6 = np.eye(6)\n",
        "  H = np.append([I_6],[x.T],axis = 2)\n",
        "  H = H[0]\n",
        "  return G,H"
      ],
      "execution_count": 9,
      "outputs": []
    },
    {
      "cell_type": "code",
      "metadata": {
        "id": "BeSZpxZsfRTM"
      },
      "source": [
        "P = Matrix_P()\n",
        "G,H = Matrix_G_H(P)\n"
      ],
      "execution_count": 10,
      "outputs": []
    },
    {
      "cell_type": "code",
      "metadata": {
        "id": "TeMHJtke6bgj"
      },
      "source": [
        "def Separate_bit(x) :\n",
        "  m1 = []\n",
        "  m_separate = []\n",
        "  m_0 = x\n",
        "  divi = len(x)%26\n",
        "  for i in range((26-divi)) :\n",
        "    m_0.append(0) \n",
        "  for i in range(0,len(m_0),26) :\n",
        "    m1 = []\n",
        "    for j in range(26) :\n",
        "      m1.append(m_0[i+j])\n",
        "    m_separate.append(np.array(m1))\n",
        "  m_separate = np.array(m_separate)\n",
        "  return m_separate"
      ],
      "execution_count": 11,
      "outputs": []
    },
    {
      "cell_type": "code",
      "metadata": {
        "id": "TsMtXCie7Lwh"
      },
      "source": [
        "def Matrix_C_t(x,y) :\n",
        "  c_t = []\n",
        "  for i in range(len(x)) :\n",
        "    c_t.append(Cross_XOR(x[i],y))\n",
        "  c_t = np.array(c_t)\n",
        "  return c_t"
      ],
      "execution_count": 12,
      "outputs": []
    },
    {
      "cell_type": "code",
      "metadata": {
        "id": "sfscXgGd7yeM"
      },
      "source": [
        "def Separate_Matrix_C_t(x) :\n",
        "  c_t1 = []\n",
        "  for i in range(len(x)) :\n",
        "    for j in range(len(x[0])) :\n",
        "      c_t1.append(x[i][j])\n",
        "  c_t1 = np.array(c_t1)\n",
        "  return c_t1"
      ],
      "execution_count": 13,
      "outputs": []
    },
    {
      "cell_type": "code",
      "metadata": {
        "id": "5Ihi3UQN8V7E"
      },
      "source": [
        "def Matrix_C(x) :\n",
        "  c = []\n",
        "  c_1 = []\n",
        "  for i in range(0,len(x),32) :\n",
        "    c_1 = []\n",
        "    for j in range(32) :\n",
        "      c_1.append(x[j+i])\n",
        "    c.append(np.array(c_1))\n",
        "  c = np.array(c)\n",
        "  return c"
      ],
      "execution_count": 14,
      "outputs": []
    },
    {
      "cell_type": "code",
      "metadata": {
        "id": "ZUWC0FHx88_q"
      },
      "source": [
        "def Matrix_e(x) :\n",
        "  e = np.eye(32)\n",
        "  s = []\n",
        "  for i in range(len(e)) :\n",
        "    s.append(Cross_XOR(e[i],x.T))\n",
        "  s = np.array(s)\n",
        "  return e,s\n"
      ],
      "execution_count": 15,
      "outputs": []
    },
    {
      "cell_type": "code",
      "metadata": {
        "id": "SGDmZGlO9YZS"
      },
      "source": [
        "def Matrix_S_c(x,y) :\n",
        "  s_c = []\n",
        "  for i in range(len(x)) :\n",
        "    s_c.append(Cross_XOR(x[i],y.T))\n",
        "  s_c = np.array((s_c))\n",
        "  return s_c\n"
      ],
      "execution_count": 16,
      "outputs": []
    },
    {
      "cell_type": "code",
      "metadata": {
        "id": "wNgG4kE-Ev9F"
      },
      "source": [
        "def Matrix_C_bar(w,x,y,z) :\n",
        "  c_bar = w\n",
        "  for i in range(len(x)) :\n",
        "    for j in range(len(y)) :\n",
        "      if list(x[i]) == list(y[j]) :\n",
        "        for k in range(len(z[0])) :\n",
        "          if z[j][k] == 1 :\n",
        "            if c_bar[i][k] == 1 :\n",
        "              c_bar[i][k] = 0\n",
        "            else :\n",
        "              c_bar[i][k] = 1\n",
        "  return c_bar"
      ],
      "execution_count": 17,
      "outputs": []
    },
    {
      "cell_type": "code",
      "metadata": {
        "id": "DSdI1R48Fbv0"
      },
      "source": [
        "def Matrix_C_bar_to_bit(x,y,z) :\n",
        "  m_hat1 = []\n",
        "  for i in range(0,len(x)) :\n",
        "      for j in range(6,32) :\n",
        "        m_hat1.append(x[i][j])\n",
        "\n",
        "  #m_hat2 = []\n",
        "  #for i in range(len(y)) :\n",
        "  #  m_hat2.append(int(m_hat1[i]))\n",
        "  #m_hat2 = np.array(m_hat2)\n",
        "\n",
        "  m_hat = []\n",
        "  for i in range(len(y)-(26-z)) :\n",
        "    m_hat.append(m_hat1[i])\n",
        "  m_hat = np.array(m_hat)\n",
        "  return m_hat"
      ],
      "execution_count": 18,
      "outputs": []
    },
    {
      "cell_type": "code",
      "metadata": {
        "id": "BNIwPzNJUCHI"
      },
      "source": [
        "def White_noise(x,y) :\n",
        " np.random.seed(1)\n",
        " white_noise = np.random.normal(0,math.sqrt((1/2)*10**(-y/10)),len(x))\n",
        " m=x+white_noise\n",
        " return m"
      ],
      "execution_count": 19,
      "outputs": []
    },
    {
      "cell_type": "code",
      "metadata": {
        "colab": {
          "base_uri": "https://localhost:8080/",
          "height": 562
        },
        "id": "1YfJoiQc36rs",
        "outputId": "b5060335-9976-4f78-e588-ee266b5c2a2b"
      },
      "source": [
        "SNR = np.arange(-50,20,5)\n",
        "BER = []\n",
        "for o in SNR :\n",
        "  print(\"SNR = \",o)\n",
        "  binaryphoto,y,photo = importandplotphoto('C:\\Users\\ballz\\Desktop\\coding\\4G\\แหนม.jpg') #ใส่รูปที่ต้องการส่ง\n",
        "\n",
        "  plot.subplot(1, 2, 1)\n",
        "  plot.title('Photo before transmitted')\n",
        "  plot.imshow(photo[:,:,::-1])\n",
        "\n",
        "  P = Matrix_P()\n",
        "\n",
        "  G,H = Matrix_G_H(P)\n",
        "  m = binaryphoto\n",
        "  divi = len(m)%26\n",
        "\n",
        "  m_separate = Separate_bit(m)\n",
        "\n",
        "  c_t = Matrix_C_t(m_separate,G)\n",
        "\n",
        "  c_t1 = Separate_Matrix_C_t(c_t)\n",
        "\n",
        "  QAM =  MOD_256_QAM(c_t1)\n",
        "  pluswhite = White_noise(QAM,o)\n",
        "  c_r = De_256_QAM(pluswhite)\n",
        "\n",
        "  c = Matrix_C(c_r)\n",
        "\n",
        "  e,s = Matrix_e(H)\n",
        "\n",
        "  s_c = Matrix_S_c(c,H)\n",
        "\n",
        "  c_bar = Matrix_C_bar(c,s_c,s,e)\n",
        "\n",
        "  m_hat = Matrix_C_bar_to_bit(c_bar,m,divi)\n",
        "\n",
        "  m_hat1 = hexbinarytoten(m_hat)\n",
        "\n",
        "  m1 = m_hat1.reshape(y[0],y[1],y[2])\n",
        "  plot.subplot(1, 2, 2)\n",
        "  plot.imshow(m1[:,:,::-1])\n",
        "  plot.title('Photo after transmitted')\n",
        "  plot.show()\n",
        "\n",
        "  fig, axes = plot.subplots(1,2, figsize = (12,4))\n",
        "  t1= np.arange(0,len(QAM)*4*(10**-2),4*(10**-2))\n",
        "  axes[0].plot(t1[0:1000],QAM[0:1000])\n",
        "  axes[0].set_title('256 - QAM signal before transmitted form 0 to 4*10**-8 sec ')\n",
        "  axes[0].set_xlabel('Time (nanosec)')\n",
        "  axes[0].set_ylabel('Amplitude')\n",
        "\n",
        "  axes[1].plot(t1[0:1000],pluswhite[0:1000])\n",
        "  axes[1].set_xlabel('Time (nanosec)')\n",
        "  axes[1].set_ylabel('Amplitude')\n",
        "  axes[1].set_title('256 - QAM signal after transmitted form to 4*10**-8 sec')\n",
        "  plot.show()\n",
        "\n",
        "  ber = comparebit(m_hat,binaryphoto)\n",
        "  BER.append(ber)\n",
        "\n",
        "BER = np.array(BER)\n",
        "plot.title('waterfall curve')\n",
        "plot.xlabel('SNR')\n",
        "plot.ylabel('BER')\n",
        "plot.semilogy(SNR,BER)\n",
        "plot.show()"
      ],
      "execution_count": 23,
      "outputs": [
        {
          "output_type": "stream",
          "text": [
            "SNR =  -50\n"
          ],
          "name": "stdout"
        },
        {
          "output_type": "error",
          "ename": "KeyboardInterrupt",
          "evalue": "ignored",
          "traceback": [
            "\u001b[0;31m---------------------------------------------------------------------------\u001b[0m",
            "\u001b[0;31mKeyboardInterrupt\u001b[0m                         Traceback (most recent call last)",
            "\u001b[0;32m<ipython-input-23-856010b55817>\u001b[0m in \u001b[0;36m<module>\u001b[0;34m()\u001b[0m\n\u001b[1;32m     23\u001b[0m   \u001b[0mQAM\u001b[0m \u001b[0;34m=\u001b[0m  \u001b[0mMOD_256_QAM\u001b[0m\u001b[0;34m(\u001b[0m\u001b[0mc_t1\u001b[0m\u001b[0;34m)\u001b[0m\u001b[0;34m\u001b[0m\u001b[0;34m\u001b[0m\u001b[0m\n\u001b[1;32m     24\u001b[0m   \u001b[0mpluswhite\u001b[0m \u001b[0;34m=\u001b[0m \u001b[0mWhite_noise\u001b[0m\u001b[0;34m(\u001b[0m\u001b[0mQAM\u001b[0m\u001b[0;34m,\u001b[0m\u001b[0mo\u001b[0m\u001b[0;34m)\u001b[0m\u001b[0;34m\u001b[0m\u001b[0;34m\u001b[0m\u001b[0m\n\u001b[0;32m---> 25\u001b[0;31m   \u001b[0mc_r\u001b[0m \u001b[0;34m=\u001b[0m \u001b[0mDe_256_QAM\u001b[0m\u001b[0;34m(\u001b[0m\u001b[0mpluswhite\u001b[0m\u001b[0;34m)\u001b[0m\u001b[0;34m\u001b[0m\u001b[0;34m\u001b[0m\u001b[0m\n\u001b[0m\u001b[1;32m     26\u001b[0m \u001b[0;34m\u001b[0m\u001b[0m\n\u001b[1;32m     27\u001b[0m   \u001b[0mc\u001b[0m \u001b[0;34m=\u001b[0m \u001b[0mMatrix_C\u001b[0m\u001b[0;34m(\u001b[0m\u001b[0mc_r\u001b[0m\u001b[0;34m)\u001b[0m\u001b[0;34m\u001b[0m\u001b[0;34m\u001b[0m\u001b[0m\n",
            "\u001b[0;32m<ipython-input-3-17ef78da98f7>\u001b[0m in \u001b[0;36mDe_256_QAM\u001b[0;34m(m)\u001b[0m\n\u001b[1;32m     39\u001b[0m \u001b[0;34m\u001b[0m\u001b[0m\n\u001b[1;32m     40\u001b[0m     \u001b[0;32mfor\u001b[0m \u001b[0mj\u001b[0m \u001b[0;32min\u001b[0m \u001b[0mrange\u001b[0m\u001b[0;34m(\u001b[0m\u001b[0;36m14\u001b[0m\u001b[0;34m,\u001b[0m\u001b[0;34m-\u001b[0m\u001b[0;36m14\u001b[0m\u001b[0;34m,\u001b[0m\u001b[0;34m-\u001b[0m\u001b[0;36m2\u001b[0m\u001b[0;34m)\u001b[0m \u001b[0;34m:\u001b[0m\u001b[0;34m\u001b[0m\u001b[0;34m\u001b[0m\u001b[0m\n\u001b[0;32m---> 41\u001b[0;31m       \u001b[0;32mif\u001b[0m \u001b[0mZQ\u001b[0m\u001b[0;34m[\u001b[0m\u001b[0mi\u001b[0m\u001b[0;34m]\u001b[0m\u001b[0;34m<\u001b[0m\u001b[0mj\u001b[0m \u001b[0;32mand\u001b[0m \u001b[0mZQ\u001b[0m\u001b[0;34m[\u001b[0m\u001b[0mi\u001b[0m\u001b[0;34m]\u001b[0m\u001b[0;34m>=\u001b[0m\u001b[0mj\u001b[0m\u001b[0;34m-\u001b[0m\u001b[0;36m2\u001b[0m \u001b[0;34m:\u001b[0m\u001b[0;34m\u001b[0m\u001b[0;34m\u001b[0m\u001b[0m\n\u001b[0m\u001b[1;32m     42\u001b[0m         \u001b[0mQ\u001b[0m\u001b[0;34m.\u001b[0m\u001b[0mappend\u001b[0m\u001b[0;34m(\u001b[0m\u001b[0mj\u001b[0m\u001b[0;34m-\u001b[0m\u001b[0;36m1\u001b[0m\u001b[0;34m)\u001b[0m\u001b[0;34m\u001b[0m\u001b[0;34m\u001b[0m\u001b[0m\n\u001b[1;32m     43\u001b[0m \u001b[0;34m\u001b[0m\u001b[0m\n",
            "\u001b[0;31mKeyboardInterrupt\u001b[0m: "
          ]
        },
        {
          "output_type": "display_data",
          "data": {
            "image/png": "[encoded data removed]",
            "text/plain": [
              "<Figure size 432x288 with 1 Axes>"
            ]
          },
          "metadata": {
            "tags": [],
            "needs_background": "light"
          }
        }
      ]
    }
  ]
}